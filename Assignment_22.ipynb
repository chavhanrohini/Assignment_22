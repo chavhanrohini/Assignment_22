{
 "cells": [
  {
   "cell_type": "markdown",
   "id": "70d237cf",
   "metadata": {},
   "source": [
    "## 1. What is the result of the code, and explain?"
   ]
  },
  {
   "cell_type": "code",
   "execution_count": 1,
   "id": "0ac9351f",
   "metadata": {},
   "outputs": [
    {
     "name": "stdout",
     "output_type": "stream",
     "text": [
      "iNeuron\n"
     ]
    }
   ],
   "source": [
    "X = 'iNeuron'\n",
    "def func():\n",
    "    print(X)\n",
    "\n",
    "func()\n"
   ]
  },
  {
   "cell_type": "code",
   "execution_count": 3,
   "id": "4c9a2616",
   "metadata": {},
   "outputs": [
    {
     "data": {
      "text/plain": [
       "'iNeuron'"
      ]
     },
     "execution_count": 3,
     "metadata": {},
     "output_type": "execute_result"
    }
   ],
   "source": [
    "X"
   ]
  },
  {
   "cell_type": "code",
   "execution_count": 4,
   "id": "0c0ab02b",
   "metadata": {},
   "outputs": [
    {
     "name": "stdout",
     "output_type": "stream",
     "text": [
      "iNeuron\n"
     ]
    }
   ],
   "source": [
    "func()"
   ]
  },
  {
   "cell_type": "markdown",
   "id": "706ed378",
   "metadata": {},
   "source": [
    "Explanation: In this code, there's a global variable X with the value 'iNeuron'. The function func is defined and it prints the value of X. When you call func(), it prints the value of the global variable X, which is 'iNeuron'."
   ]
  },
  {
   "cell_type": "markdown",
   "id": "430e7aaf",
   "metadata": {},
   "source": [
    "## 2. What is the result of the code, and explain?"
   ]
  },
  {
   "cell_type": "code",
   "execution_count": 5,
   "id": "da488fe1",
   "metadata": {},
   "outputs": [
    {
     "name": "stdout",
     "output_type": "stream",
     "text": [
      "iNeuron\n"
     ]
    }
   ],
   "source": [
    "X = 'iNeuron'\n",
    "def func():\n",
    "    X = 'NI!'\n",
    "\n",
    "func()\n",
    "print(X)\n"
   ]
  },
  {
   "cell_type": "code",
   "execution_count": 6,
   "id": "3bc94270",
   "metadata": {},
   "outputs": [
    {
     "data": {
      "text/plain": [
       "'iNeuron'"
      ]
     },
     "execution_count": 6,
     "metadata": {},
     "output_type": "execute_result"
    }
   ],
   "source": [
    "X"
   ]
  },
  {
   "cell_type": "markdown",
   "id": "4f99e634",
   "metadata": {},
   "source": [
    "Explanation: In this code, there's a global variable X with the value 'iNeuron', and a function func is defined that has a local variable X with the value 'NI!'. When you call func(), it doesn't modify the global X. After calling func(), when you print X, it still refers to the global variable, so it prints 'iNeuron'."
   ]
  },
  {
   "cell_type": "markdown",
   "id": "58576bc2",
   "metadata": {},
   "source": [
    "## 3. What does this code print, and why?"
   ]
  },
  {
   "cell_type": "code",
   "execution_count": 7,
   "id": "d9ef684b",
   "metadata": {},
   "outputs": [
    {
     "name": "stdout",
     "output_type": "stream",
     "text": [
      "NI\n",
      "iNeuron\n"
     ]
    }
   ],
   "source": [
    "X = 'iNeuron'\n",
    "def func():\n",
    "    X = 'NI'\n",
    "    print(X)\n",
    "\n",
    "func()\n",
    "print(X)\n"
   ]
  },
  {
   "cell_type": "markdown",
   "id": "31fae5f9",
   "metadata": {},
   "source": [
    "Explanation: In this code, there's a global variable X with the value 'iNeuron'. Inside the func function, there's a local variable X with the value 'NI'. When you call func(), it prints the value of the local variable X, which is 'NI'. After that, when you print X outside the function, it refers to the global variable, so it prints 'iNeuron'."
   ]
  },
  {
   "cell_type": "markdown",
   "id": "86585f02",
   "metadata": {},
   "source": [
    "## 4. What output does this code produce? Why?"
   ]
  },
  {
   "cell_type": "code",
   "execution_count": 8,
   "id": "8b4b44fa",
   "metadata": {},
   "outputs": [
    {
     "name": "stdout",
     "output_type": "stream",
     "text": [
      "NI\n"
     ]
    }
   ],
   "source": [
    "X = 'iNeuron'\n",
    "def func():\n",
    "    global X\n",
    "    X = 'NI'\n",
    "\n",
    "func()\n",
    "print(X)\n"
   ]
  },
  {
   "cell_type": "markdown",
   "id": "6edef74c",
   "metadata": {},
   "source": [
    "Explanation: In this code, the global keyword is used inside the func function to indicate that the X variable being modified is the global one, not a local variable. So, when you call func(), it sets the global variable X to 'NI', and when you print X afterward, it reflects the global change and prints 'NI'."
   ]
  },
  {
   "cell_type": "markdown",
   "id": "dd236d7d",
   "metadata": {},
   "source": [
    "## 5. What about this code—what’s the output, and why?"
   ]
  },
  {
   "cell_type": "code",
   "execution_count": 9,
   "id": "93c5d8ea",
   "metadata": {},
   "outputs": [
    {
     "name": "stdout",
     "output_type": "stream",
     "text": [
      "NI\n",
      "iNeuron\n"
     ]
    }
   ],
   "source": [
    "X = 'iNeuron'\n",
    "def func():\n",
    "    X = 'NI'\n",
    "    def nested():\n",
    "        print(X)\n",
    "    nested()\n",
    "\n",
    "func()\n",
    "print(X)\n"
   ]
  },
  {
   "cell_type": "markdown",
   "id": "eebf0dc9",
   "metadata": {},
   "source": [
    "Explanation: In this code, there's a global variable X with the value 'iNeuron'. Inside the func function, there's a local variable X with the value 'NI'. The nested function is defined within func, and it prints the value of the X from the nearest enclosing scope, which is the local variable X of the func function. So, when you call func(), it prints 'NI' from within the nested function. After that, when you print X outside both functions, it refers to the global variable, so it prints 'iNeuron'."
   ]
  },
  {
   "cell_type": "markdown",
   "id": "773b4234",
   "metadata": {},
   "source": [
    "## 6. How about this code: what is its output in Python 3, and explain?"
   ]
  },
  {
   "cell_type": "code",
   "execution_count": 10,
   "id": "92000190",
   "metadata": {},
   "outputs": [
    {
     "name": "stdout",
     "output_type": "stream",
     "text": [
      "Spam\n"
     ]
    }
   ],
   "source": [
    "def func():\n",
    "    X = 'NI'\n",
    "    def nested():\n",
    "        nonlocal X\n",
    "        X = 'Spam'\n",
    "    nested()\n",
    "    print(X)\n",
    "\n",
    "func()\n"
   ]
  },
  {
   "cell_type": "markdown",
   "id": "f75915c9",
   "metadata": {},
   "source": [
    "Explanation: In Python 3, the nonlocal keyword is used to indicate that X is not a global variable but refers to the nearest enclosing scope, which is the X variable in the func function.\n",
    "\n",
    "Here's the step-by-step explanation:\n",
    "\n",
    "Inside the func function, there's a local variable X with the value 'NI'.\n",
    "\n",
    "The nested function is defined within func, and it uses nonlocal X to indicate that it wants to modify the nearest enclosing scope's X.\n",
    "\n",
    "When you call nested() within func, it sets the value of the nearest enclosing X to 'Spam'.\n",
    "\n",
    "Finally, when you print X within the func function after calling nested(), it prints the modified value, which is 'Spam'."
   ]
  },
  {
   "cell_type": "code",
   "execution_count": null,
   "id": "5ff09e24",
   "metadata": {},
   "outputs": [],
   "source": []
  }
 ],
 "metadata": {
  "kernelspec": {
   "display_name": "Python 3 (ipykernel)",
   "language": "python",
   "name": "python3"
  },
  "language_info": {
   "codemirror_mode": {
    "name": "ipython",
    "version": 3
   },
   "file_extension": ".py",
   "mimetype": "text/x-python",
   "name": "python",
   "nbconvert_exporter": "python",
   "pygments_lexer": "ipython3",
   "version": "3.9.12"
  }
 },
 "nbformat": 4,
 "nbformat_minor": 5
}
